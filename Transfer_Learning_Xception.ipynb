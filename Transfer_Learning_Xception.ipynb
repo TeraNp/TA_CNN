{
 "cells": [
  {
   "attachments": {},
   "cell_type": "markdown",
   "metadata": {
    "id": "KiDY6Zefq4OS"
   },
   "source": [
    "Transfer Learning Xception"
   ]
  },
  {
   "cell_type": "code",
   "execution_count": 11,
   "metadata": {
    "colab": {
     "base_uri": "https://localhost:8080/"
    },
    "id": "Bi2QZepIq2bv",
    "outputId": "f3c0fad0-0d84-41ac-d47f-48773f8f2813"
   },
   "outputs": [
    {
     "name": "stdout",
     "output_type": "stream",
     "text": [
      "TensorFlow version: 2.12.0\n",
      "Is using GPU? False\n"
     ]
    }
   ],
   "source": [
    "import tensorflow as tf\n",
    "import os\n",
    "import numpy as np\n",
    "\n",
    "from matplotlib import pyplot as plt\n",
    "%matplotlib inline\n",
    "\n",
    "if not os.path.isdir('models'):\n",
    "    os.mkdir('models')\n",
    "    \n",
    "print('TensorFlow version:', tf.__version__)\n",
    "print('Is using GPU?', tf.test.is_gpu_available())"
   ]
  },
  {
   "cell_type": "code",
   "execution_count": null,
   "metadata": {
    "id": "Da-0OkdAqX2R"
   },
   "outputs": [],
   "source": []
  },
  {
   "cell_type": "code",
   "execution_count": 15,
   "metadata": {
    "id": "LIvkvIihq2d2"
   },
   "outputs": [],
   "source": [
    "import cv2\n",
    "from PIL import Image\n",
    "from glob import glob\n",
    "from scipy import stats as s\n",
    "import keras\n",
    "from keras.models import Sequential\n",
    "import tensorflow.keras.applications.xception\n",
    "from keras.applications.xception import Xception\n",
    "from keras.layers import Dense, InputLayer, Dropout, Flatten\n",
    "from keras.layers import Conv2D, MaxPooling2D, GlobalMaxPooling2D\n",
    "from tensorflow.keras.preprocessing import image\n",
    "import numpy as np\n",
    "import pandas as pd\n",
    "import matplotlib.pyplot as plt\n",
    "from tqdm import tqdm\n",
    "from sklearn.model_selection import train_test_split"
   ]
  },
  {
   "cell_type": "code",
   "execution_count": 16,
   "metadata": {
    "colab": {
     "base_uri": "https://localhost:8080/",
     "height": 206
    },
    "id": "pSEBIGv7q2g0",
    "outputId": "8a74ba92-3d70-40e9-d6d5-babe85fec865"
   },
   "outputs": [
    {
     "data": {
      "text/html": [
       "<div>\n",
       "<style scoped>\n",
       "    .dataframe tbody tr th:only-of-type {\n",
       "        vertical-align: middle;\n",
       "    }\n",
       "\n",
       "    .dataframe tbody tr th {\n",
       "        vertical-align: top;\n",
       "    }\n",
       "\n",
       "    .dataframe thead th {\n",
       "        text-align: right;\n",
       "    }\n",
       "</style>\n",
       "<table border=\"1\" class=\"dataframe\">\n",
       "  <thead>\n",
       "    <tr style=\"text-align: right;\">\n",
       "      <th></th>\n",
       "      <th>image</th>\n",
       "      <th>class</th>\n",
       "    </tr>\n",
       "  </thead>\n",
       "  <tbody>\n",
       "    <tr>\n",
       "      <th>0</th>\n",
       "      <td>harassment_shv1.mp4_frame0.jpg</td>\n",
       "      <td>1</td>\n",
       "    </tr>\n",
       "    <tr>\n",
       "      <th>1</th>\n",
       "      <td>harassment_shv1.mp4_frame1.jpg</td>\n",
       "      <td>1</td>\n",
       "    </tr>\n",
       "    <tr>\n",
       "      <th>2</th>\n",
       "      <td>harassment_shv1.mp4_frame10.jpg</td>\n",
       "      <td>1</td>\n",
       "    </tr>\n",
       "    <tr>\n",
       "      <th>3</th>\n",
       "      <td>harassment_shv1.mp4_frame11.jpg</td>\n",
       "      <td>1</td>\n",
       "    </tr>\n",
       "    <tr>\n",
       "      <th>4</th>\n",
       "      <td>harassment_shv1.mp4_frame12.jpg</td>\n",
       "      <td>1</td>\n",
       "    </tr>\n",
       "  </tbody>\n",
       "</table>\n",
       "</div>"
      ],
      "text/plain": [
       "                             image  class\n",
       "0   harassment_shv1.mp4_frame0.jpg      1\n",
       "1   harassment_shv1.mp4_frame1.jpg      1\n",
       "2  harassment_shv1.mp4_frame10.jpg      1\n",
       "3  harassment_shv1.mp4_frame11.jpg      1\n",
       "4  harassment_shv1.mp4_frame12.jpg      1"
      ]
     },
     "execution_count": 16,
     "metadata": {},
     "output_type": "execute_result"
    }
   ],
   "source": [
    "train = pd.read_csv('Data/train_new.csv')\n",
    "train.head()"
   ]
  },
  {
   "cell_type": "code",
   "execution_count": 17,
   "metadata": {
    "colab": {
     "base_uri": "https://localhost:8080/"
    },
    "id": "e--o6tjuq2jm",
    "outputId": "1dcd5a23-63fc-40bb-bc9c-ed65bd68619b"
   },
   "outputs": [
    {
     "name": "stderr",
     "output_type": "stream",
     "text": [
      "100%|██████████| 399/399 [00:12<00:00, 30.77it/s]\n"
     ]
    },
    {
     "data": {
      "text/plain": [
       "(399, 224, 224, 3)"
      ]
     },
     "execution_count": 17,
     "metadata": {},
     "output_type": "execute_result"
    }
   ],
   "source": [
    "# creating an empty list\n",
    "train_image = []\n",
    "\n",
    "# for loop to read and store frames\n",
    "for i in tqdm(range(train.shape[0])):\n",
    "    # loading the image and keeping the target size as (224,224,3)\n",
    "    img = Image.open('train/' + train['image'][i]).resize((224, 224))\n",
    "    # converting it to array\n",
    "    img = image.img_to_array(img)\n",
    "    # normalizing the pixel value\n",
    "    img = img / 255.0\n",
    "    # appending the image to the train_image list\n",
    "    train_image.append(img)\n",
    "    \n",
    "    \n",
    "# converting the list to numpy array\n",
    "X = np.array(train_image)\n",
    "\n",
    "# shape of the array\n",
    "X.shape"
   ]
  },
  {
   "cell_type": "code",
   "execution_count": 18,
   "metadata": {
    "id": "4rxqt-8zq2nL"
   },
   "outputs": [],
   "source": [
    "# separating the target\n",
    "y = train['class']\n",
    "\n",
    "# creating the training and validation set\n",
    "X_train, X_test, y_train, y_test = train_test_split(X, y, random_state=42, test_size=0.2, stratify = y)"
   ]
  },
  {
   "cell_type": "code",
   "execution_count": 19,
   "metadata": {
    "id": "5Bcf7gjhq2sL"
   },
   "outputs": [],
   "source": [
    "# creating dummies of target variable for train and validation set\n",
    "y_train = pd.get_dummies(y_train)\n",
    "y_test = pd.get_dummies(y_test)"
   ]
  },
  {
   "cell_type": "code",
   "execution_count": 23,
   "metadata": {
    "colab": {
     "base_uri": "https://localhost:8080/"
    },
    "id": "GtBngJCgq2wg",
    "outputId": "5476cd15-8cbf-41d8-ba5c-cb261c3b9083"
   },
   "outputs": [],
   "source": [
    "# creating the base model of pre-trained Xception model\n",
    "base_model = Xception(weights='imagenet', include_top=False)"
   ]
  },
  {
   "cell_type": "code",
   "execution_count": 24,
   "metadata": {
    "colab": {
     "base_uri": "https://localhost:8080/"
    },
    "id": "3AAsmWmLq2yd",
    "outputId": "247699cb-567e-48d8-869c-e920adaebb7a"
   },
   "outputs": [
    {
     "ename": "ValueError",
     "evalue": "in user code:\n\n    File \"c:\\Users\\copzt\\AppData\\Local\\Programs\\Python\\Python310\\lib\\site-packages\\keras\\engine\\training.py\", line 2169, in predict_function  *\n        return step_function(self, iterator)\n    File \"c:\\Users\\copzt\\AppData\\Local\\Programs\\Python\\Python310\\lib\\site-packages\\keras\\engine\\training.py\", line 2155, in step_function  **\n        outputs = model.distribute_strategy.run(run_step, args=(data,))\n    File \"c:\\Users\\copzt\\AppData\\Local\\Programs\\Python\\Python310\\lib\\site-packages\\keras\\engine\\training.py\", line 2143, in run_step  **\n        outputs = model.predict_step(data)\n    File \"c:\\Users\\copzt\\AppData\\Local\\Programs\\Python\\Python310\\lib\\site-packages\\keras\\engine\\training.py\", line 2111, in predict_step\n        return self(x, training=False)\n    File \"c:\\Users\\copzt\\AppData\\Local\\Programs\\Python\\Python310\\lib\\site-packages\\keras\\utils\\traceback_utils.py\", line 70, in error_handler\n        raise e.with_traceback(filtered_tb) from None\n    File \"c:\\Users\\copzt\\AppData\\Local\\Programs\\Python\\Python310\\lib\\site-packages\\keras\\engine\\input_spec.py\", line 298, in assert_input_compatibility\n        raise ValueError(\n\n    ValueError: Input 0 of layer \"xception\" is incompatible with the layer: expected shape=(None, None, None, 3), found shape=(None, 7, 7, 2048)\n",
     "output_type": "error",
     "traceback": [
      "\u001b[1;31m---------------------------------------------------------------------------\u001b[0m",
      "\u001b[1;31mValueError\u001b[0m                                Traceback (most recent call last)",
      "Cell \u001b[1;32mIn[24], line 2\u001b[0m\n\u001b[0;32m      1\u001b[0m \u001b[39m# extracting features for training frames\u001b[39;00m\n\u001b[1;32m----> 2\u001b[0m X_train \u001b[39m=\u001b[39m base_model\u001b[39m.\u001b[39;49mpredict(X_train)\n\u001b[0;32m      3\u001b[0m X_train\u001b[39m.\u001b[39mshape\n",
      "File \u001b[1;32mc:\\Users\\copzt\\AppData\\Local\\Programs\\Python\\Python310\\lib\\site-packages\\keras\\utils\\traceback_utils.py:70\u001b[0m, in \u001b[0;36mfilter_traceback.<locals>.error_handler\u001b[1;34m(*args, **kwargs)\u001b[0m\n\u001b[0;32m     67\u001b[0m     filtered_tb \u001b[39m=\u001b[39m _process_traceback_frames(e\u001b[39m.\u001b[39m__traceback__)\n\u001b[0;32m     68\u001b[0m     \u001b[39m# To get the full stack trace, call:\u001b[39;00m\n\u001b[0;32m     69\u001b[0m     \u001b[39m# `tf.debugging.disable_traceback_filtering()`\u001b[39;00m\n\u001b[1;32m---> 70\u001b[0m     \u001b[39mraise\u001b[39;00m e\u001b[39m.\u001b[39mwith_traceback(filtered_tb) \u001b[39mfrom\u001b[39;00m \u001b[39mNone\u001b[39;00m\n\u001b[0;32m     71\u001b[0m \u001b[39mfinally\u001b[39;00m:\n\u001b[0;32m     72\u001b[0m     \u001b[39mdel\u001b[39;00m filtered_tb\n",
      "File \u001b[1;32m~\\AppData\\Local\\Temp\\__autograph_generated_filexb8jco7g.py:15\u001b[0m, in \u001b[0;36mouter_factory.<locals>.inner_factory.<locals>.tf__predict_function\u001b[1;34m(iterator)\u001b[0m\n\u001b[0;32m     13\u001b[0m \u001b[39mtry\u001b[39;00m:\n\u001b[0;32m     14\u001b[0m     do_return \u001b[39m=\u001b[39m \u001b[39mTrue\u001b[39;00m\n\u001b[1;32m---> 15\u001b[0m     retval_ \u001b[39m=\u001b[39m ag__\u001b[39m.\u001b[39mconverted_call(ag__\u001b[39m.\u001b[39mld(step_function), (ag__\u001b[39m.\u001b[39mld(\u001b[39mself\u001b[39m), ag__\u001b[39m.\u001b[39mld(iterator)), \u001b[39mNone\u001b[39;00m, fscope)\n\u001b[0;32m     16\u001b[0m \u001b[39mexcept\u001b[39;00m:\n\u001b[0;32m     17\u001b[0m     do_return \u001b[39m=\u001b[39m \u001b[39mFalse\u001b[39;00m\n",
      "\u001b[1;31mValueError\u001b[0m: in user code:\n\n    File \"c:\\Users\\copzt\\AppData\\Local\\Programs\\Python\\Python310\\lib\\site-packages\\keras\\engine\\training.py\", line 2169, in predict_function  *\n        return step_function(self, iterator)\n    File \"c:\\Users\\copzt\\AppData\\Local\\Programs\\Python\\Python310\\lib\\site-packages\\keras\\engine\\training.py\", line 2155, in step_function  **\n        outputs = model.distribute_strategy.run(run_step, args=(data,))\n    File \"c:\\Users\\copzt\\AppData\\Local\\Programs\\Python\\Python310\\lib\\site-packages\\keras\\engine\\training.py\", line 2143, in run_step  **\n        outputs = model.predict_step(data)\n    File \"c:\\Users\\copzt\\AppData\\Local\\Programs\\Python\\Python310\\lib\\site-packages\\keras\\engine\\training.py\", line 2111, in predict_step\n        return self(x, training=False)\n    File \"c:\\Users\\copzt\\AppData\\Local\\Programs\\Python\\Python310\\lib\\site-packages\\keras\\utils\\traceback_utils.py\", line 70, in error_handler\n        raise e.with_traceback(filtered_tb) from None\n    File \"c:\\Users\\copzt\\AppData\\Local\\Programs\\Python\\Python310\\lib\\site-packages\\keras\\engine\\input_spec.py\", line 298, in assert_input_compatibility\n        raise ValueError(\n\n    ValueError: Input 0 of layer \"xception\" is incompatible with the layer: expected shape=(None, None, None, 3), found shape=(None, 7, 7, 2048)\n"
     ]
    }
   ],
   "source": [
    "# extracting features for training frames\n",
    "X_train = base_model.predict(X_train)\n",
    "X_train.shape"
   ]
  },
  {
   "cell_type": "code",
   "execution_count": 25,
   "metadata": {
    "colab": {
     "base_uri": "https://localhost:8080/"
    },
    "id": "eRVp9Pmsq22p",
    "outputId": "33c97bd4-d397-496c-c467-b8689444c2a1"
   },
   "outputs": [
    {
     "name": "stdout",
     "output_type": "stream",
     "text": [
      "3/3 [==============================] - 8s 2s/step\n"
     ]
    },
    {
     "data": {
      "text/plain": [
       "(80, 7, 7, 2048)"
      ]
     },
     "execution_count": 25,
     "metadata": {},
     "output_type": "execute_result"
    }
   ],
   "source": [
    "# extracting features for validation frames\n",
    "X_test = base_model.predict(X_test)\n",
    "X_test.shape"
   ]
  },
  {
   "cell_type": "code",
   "execution_count": null,
   "metadata": {
    "id": "me0zcGHFq27c"
   },
   "outputs": [],
   "source": [
    "# reshaping the training as well as validation frames in single dimension\n",
    "X_train = X_train.reshape(3381, 7*7*2048)\n",
    "X_test = X_test.reshape(846, 7*7*2048)"
   ]
  },
  {
   "cell_type": "code",
   "execution_count": null,
   "metadata": {
    "colab": {
     "base_uri": "https://localhost:8080/"
    },
    "id": "-CBvGHggq29T",
    "outputId": "10854676-3a4f-4337-ce5b-f9ed49a12677"
   },
   "outputs": [
    {
     "data": {
      "text/plain": [
       "(3381, 100352)"
      ]
     },
     "execution_count": 11,
     "metadata": {
      "tags": []
     },
     "output_type": "execute_result"
    }
   ],
   "source": [
    "# normalizing the pixel values\n",
    "max = X_train.max()\n",
    "X_train = X_train/max\n",
    "X_test = X_test/max\n",
    "X_train.shape"
   ]
  },
  {
   "cell_type": "code",
   "execution_count": null,
   "metadata": {
    "id": "remqsRV8q3Ac"
   },
   "outputs": [],
   "source": [
    "#defining the model architecture\n",
    "model = Sequential()\n",
    "model.add(Dense(1024, activation='relu', input_shape=(100352,)))\n",
    "model.add(Dropout(0.5))\n",
    "model.add(Dense(512, activation='relu'))\n",
    "model.add(Dropout(0.5))\n",
    "model.add(Dense(256, activation='relu'))\n",
    "model.add(Dropout(0.5))\n",
    "model.add(Dense(128, activation='relu'))\n",
    "model.add(Dropout(0.5))\n",
    "model.add(Dense(2, activation='softmax'))"
   ]
  },
  {
   "cell_type": "code",
   "execution_count": null,
   "metadata": {
    "id": "_0taJOscq3CD"
   },
   "outputs": [],
   "source": [
    "from keras.callbacks import ModelCheckpoint\n",
    "mcp_save = ModelCheckpoint('weight.hdf5', save_best_only=True, monitor='val_loss', mode='min')"
   ]
  },
  {
   "cell_type": "code",
   "execution_count": null,
   "metadata": {
    "colab": {
     "base_uri": "https://localhost:8080/"
    },
    "id": "PyG421kOq213",
    "outputId": "f5b2e299-cc99-4ac0-8db9-5e51eb875e1c"
   },
   "outputs": [
    {
     "name": "stdout",
     "output_type": "stream",
     "text": [
      "Model: \"sequential\"\n",
      "_________________________________________________________________\n",
      "Layer (type)                 Output Shape              Param #   \n",
      "=================================================================\n",
      "dense (Dense)                (None, 1024)              102761472 \n",
      "_________________________________________________________________\n",
      "dropout (Dropout)            (None, 1024)              0         \n",
      "_________________________________________________________________\n",
      "dense_1 (Dense)              (None, 512)               524800    \n",
      "_________________________________________________________________\n",
      "dropout_1 (Dropout)          (None, 512)               0         \n",
      "_________________________________________________________________\n",
      "dense_2 (Dense)              (None, 256)               131328    \n",
      "_________________________________________________________________\n",
      "dropout_2 (Dropout)          (None, 256)               0         \n",
      "_________________________________________________________________\n",
      "dense_3 (Dense)              (None, 128)               32896     \n",
      "_________________________________________________________________\n",
      "dropout_3 (Dropout)          (None, 128)               0         \n",
      "_________________________________________________________________\n",
      "dense_4 (Dense)              (None, 2)                 258       \n",
      "=================================================================\n",
      "Total params: 103,450,754\n",
      "Trainable params: 103,450,754\n",
      "Non-trainable params: 0\n",
      "_________________________________________________________________\n"
     ]
    }
   ],
   "source": [
    "# compiling the model\n",
    "model.compile(loss='categorical_crossentropy',optimizer='Adam',metrics=['accuracy'])\n",
    "model.summary()"
   ]
  },
  {
   "cell_type": "code",
   "execution_count": null,
   "metadata": {
    "colab": {
     "base_uri": "https://localhost:8080/"
    },
    "id": "3aZ5T5q3q2rN",
    "outputId": "85cb835f-75d2-4bf3-8444-665252e4e074"
   },
   "outputs": [
    {
     "name": "stdout",
     "output_type": "stream",
     "text": [
      "Epoch 1/200\n",
      "27/27 [==============================] - 5s 197ms/step - loss: 0.9191 - accuracy: 0.6025 - val_loss: 0.3682 - val_accuracy: 0.8558\n",
      "Epoch 2/200\n",
      "27/27 [==============================] - 25s 930ms/step - loss: 0.3921 - accuracy: 0.8231 - val_loss: 0.1302 - val_accuracy: 0.9657\n",
      "Epoch 3/200\n",
      "27/27 [==============================] - 33s 1s/step - loss: 0.1406 - accuracy: 0.9479 - val_loss: 0.0382 - val_accuracy: 0.9882\n",
      "Epoch 4/200\n",
      "27/27 [==============================] - 29s 1s/step - loss: 0.0533 - accuracy: 0.9811 - val_loss: 0.0286 - val_accuracy: 0.9870\n",
      "Epoch 5/200\n",
      "27/27 [==============================] - 30s 1s/step - loss: 0.0340 - accuracy: 0.9882 - val_loss: 0.0201 - val_accuracy: 0.9917\n",
      "Epoch 6/200\n",
      "27/27 [==============================] - 32s 1s/step - loss: 0.0323 - accuracy: 0.9896 - val_loss: 0.0087 - val_accuracy: 0.9965\n",
      "Epoch 7/200\n",
      "27/27 [==============================] - 32s 1s/step - loss: 0.0249 - accuracy: 0.9926 - val_loss: 0.0073 - val_accuracy: 0.9976\n",
      "Epoch 8/200\n",
      "27/27 [==============================] - 1s 36ms/step - loss: 0.0176 - accuracy: 0.9938 - val_loss: 0.0140 - val_accuracy: 0.9953\n",
      "Epoch 9/200\n",
      "27/27 [==============================] - 1s 35ms/step - loss: 0.0149 - accuracy: 0.9959 - val_loss: 0.0095 - val_accuracy: 0.9965\n",
      "Epoch 10/200\n",
      "27/27 [==============================] - 1s 36ms/step - loss: 0.0196 - accuracy: 0.9947 - val_loss: 0.0113 - val_accuracy: 0.9965\n",
      "Epoch 11/200\n",
      "27/27 [==============================] - 30s 1s/step - loss: 0.0110 - accuracy: 0.9967 - val_loss: 0.0030 - val_accuracy: 0.9988\n",
      "Epoch 12/200\n",
      "27/27 [==============================] - 1s 37ms/step - loss: 0.0104 - accuracy: 0.9965 - val_loss: 0.0164 - val_accuracy: 0.9976\n",
      "Epoch 13/200\n",
      "27/27 [==============================] - 1s 37ms/step - loss: 0.0081 - accuracy: 0.9970 - val_loss: 0.0190 - val_accuracy: 0.9976\n",
      "Epoch 14/200\n",
      "27/27 [==============================] - 1s 36ms/step - loss: 0.0188 - accuracy: 0.9947 - val_loss: 0.0266 - val_accuracy: 0.9965\n",
      "Epoch 15/200\n",
      "27/27 [==============================] - 1s 35ms/step - loss: 0.0200 - accuracy: 0.9935 - val_loss: 0.0682 - val_accuracy: 0.9799\n",
      "Epoch 16/200\n",
      "27/27 [==============================] - 1s 36ms/step - loss: 0.0425 - accuracy: 0.9902 - val_loss: 0.0106 - val_accuracy: 0.9965\n",
      "Epoch 17/200\n",
      "27/27 [==============================] - 1s 36ms/step - loss: 0.0135 - accuracy: 0.9967 - val_loss: 0.0167 - val_accuracy: 0.9976\n",
      "Epoch 18/200\n",
      "27/27 [==============================] - 1s 36ms/step - loss: 0.0128 - accuracy: 0.9967 - val_loss: 0.0193 - val_accuracy: 0.9965\n",
      "Epoch 19/200\n",
      "27/27 [==============================] - 1s 36ms/step - loss: 0.0136 - accuracy: 0.9962 - val_loss: 0.0098 - val_accuracy: 0.9976\n",
      "Epoch 20/200\n",
      "27/27 [==============================] - 1s 37ms/step - loss: 0.0056 - accuracy: 0.9982 - val_loss: 0.0113 - val_accuracy: 0.9965\n",
      "Epoch 21/200\n",
      "27/27 [==============================] - 1s 36ms/step - loss: 0.0044 - accuracy: 0.9988 - val_loss: 0.0218 - val_accuracy: 0.9965\n",
      "Epoch 22/200\n",
      "27/27 [==============================] - 1s 36ms/step - loss: 0.0068 - accuracy: 0.9985 - val_loss: 0.0080 - val_accuracy: 0.9976\n",
      "Epoch 23/200\n",
      "27/27 [==============================] - 1s 36ms/step - loss: 0.0098 - accuracy: 0.9970 - val_loss: 0.0119 - val_accuracy: 0.9976\n",
      "Epoch 24/200\n",
      "27/27 [==============================] - 1s 36ms/step - loss: 0.0043 - accuracy: 0.9988 - val_loss: 0.0164 - val_accuracy: 0.9976\n",
      "Epoch 25/200\n",
      "27/27 [==============================] - 1s 36ms/step - loss: 0.0015 - accuracy: 0.9994 - val_loss: 0.0183 - val_accuracy: 0.9976\n",
      "Epoch 26/200\n",
      "27/27 [==============================] - 1s 36ms/step - loss: 0.0012 - accuracy: 1.0000 - val_loss: 0.0201 - val_accuracy: 0.9965\n",
      "Epoch 27/200\n",
      "27/27 [==============================] - 1s 36ms/step - loss: 0.0129 - accuracy: 0.9973 - val_loss: 0.0242 - val_accuracy: 0.9965\n",
      "Epoch 28/200\n",
      "27/27 [==============================] - 1s 36ms/step - loss: 0.0031 - accuracy: 0.9991 - val_loss: 0.0214 - val_accuracy: 0.9941\n",
      "Epoch 29/200\n",
      "27/27 [==============================] - 1s 36ms/step - loss: 0.0104 - accuracy: 0.9970 - val_loss: 0.0495 - val_accuracy: 0.9953\n",
      "Epoch 30/200\n",
      "27/27 [==============================] - 1s 36ms/step - loss: 0.0050 - accuracy: 0.9988 - val_loss: 0.0262 - val_accuracy: 0.9976\n",
      "Epoch 31/200\n",
      "27/27 [==============================] - 1s 36ms/step - loss: 0.0112 - accuracy: 0.9962 - val_loss: 0.0404 - val_accuracy: 0.9953\n",
      "Epoch 32/200\n",
      "27/27 [==============================] - 1s 35ms/step - loss: 0.0174 - accuracy: 0.9965 - val_loss: 0.0132 - val_accuracy: 0.9976\n",
      "Epoch 33/200\n",
      "27/27 [==============================] - 1s 36ms/step - loss: 0.0054 - accuracy: 0.9982 - val_loss: 0.0082 - val_accuracy: 0.9976\n",
      "Epoch 34/200\n",
      "27/27 [==============================] - 1s 36ms/step - loss: 0.0052 - accuracy: 0.9982 - val_loss: 0.0265 - val_accuracy: 0.9976\n",
      "Epoch 35/200\n",
      "27/27 [==============================] - 1s 36ms/step - loss: 0.0013 - accuracy: 0.9997 - val_loss: 0.0241 - val_accuracy: 0.9976\n",
      "Epoch 36/200\n",
      "27/27 [==============================] - 1s 36ms/step - loss: 7.0666e-04 - accuracy: 0.9997 - val_loss: 0.0210 - val_accuracy: 0.9976\n",
      "Epoch 37/200\n",
      "27/27 [==============================] - 1s 36ms/step - loss: 8.2865e-04 - accuracy: 0.9997 - val_loss: 0.0166 - val_accuracy: 0.9965\n",
      "Epoch 38/200\n",
      "27/27 [==============================] - 1s 36ms/step - loss: 0.0041 - accuracy: 0.9985 - val_loss: 0.0531 - val_accuracy: 0.9965\n",
      "Epoch 39/200\n",
      "27/27 [==============================] - 1s 36ms/step - loss: 0.0178 - accuracy: 0.9950 - val_loss: 0.0187 - val_accuracy: 0.9965\n",
      "Epoch 40/200\n",
      "27/27 [==============================] - 1s 36ms/step - loss: 0.0103 - accuracy: 0.9982 - val_loss: 0.0196 - val_accuracy: 0.9976\n",
      "Epoch 41/200\n",
      "27/27 [==============================] - 1s 36ms/step - loss: 0.0116 - accuracy: 0.9962 - val_loss: 0.0111 - val_accuracy: 0.9965\n",
      "Epoch 42/200\n",
      "27/27 [==============================] - 1s 36ms/step - loss: 0.0037 - accuracy: 0.9985 - val_loss: 0.0212 - val_accuracy: 0.9965\n",
      "Epoch 43/200\n",
      "27/27 [==============================] - 1s 36ms/step - loss: 0.0038 - accuracy: 0.9985 - val_loss: 0.0327 - val_accuracy: 0.9965\n",
      "Epoch 44/200\n",
      "27/27 [==============================] - 1s 36ms/step - loss: 0.0139 - accuracy: 0.9970 - val_loss: 0.0197 - val_accuracy: 0.9976\n",
      "Epoch 45/200\n",
      "27/27 [==============================] - 1s 36ms/step - loss: 0.0055 - accuracy: 0.9985 - val_loss: 0.0294 - val_accuracy: 0.9965\n",
      "Epoch 46/200\n",
      "27/27 [==============================] - 1s 36ms/step - loss: 0.0061 - accuracy: 0.9985 - val_loss: 0.0166 - val_accuracy: 0.9976\n",
      "Epoch 47/200\n",
      "27/27 [==============================] - 1s 37ms/step - loss: 0.0011 - accuracy: 1.0000 - val_loss: 0.0230 - val_accuracy: 0.9976\n",
      "Epoch 48/200\n",
      "27/27 [==============================] - 1s 36ms/step - loss: 0.0017 - accuracy: 0.9994 - val_loss: 0.0225 - val_accuracy: 0.9965\n",
      "Epoch 49/200\n",
      "27/27 [==============================] - 1s 36ms/step - loss: 0.0018 - accuracy: 0.9994 - val_loss: 0.0312 - val_accuracy: 0.9976\n",
      "Epoch 50/200\n",
      "27/27 [==============================] - 1s 36ms/step - loss: 0.0077 - accuracy: 0.9982 - val_loss: 0.0270 - val_accuracy: 0.9965\n",
      "Epoch 51/200\n",
      "27/27 [==============================] - 1s 36ms/step - loss: 8.0074e-04 - accuracy: 0.9997 - val_loss: 0.0278 - val_accuracy: 0.9965\n",
      "Epoch 52/200\n",
      "27/27 [==============================] - 1s 37ms/step - loss: 0.0018 - accuracy: 0.9994 - val_loss: 0.0298 - val_accuracy: 0.9976\n",
      "Epoch 53/200\n",
      "27/27 [==============================] - 1s 36ms/step - loss: 0.0013 - accuracy: 0.9997 - val_loss: 0.0194 - val_accuracy: 0.9976\n",
      "Epoch 54/200\n",
      "27/27 [==============================] - 1s 36ms/step - loss: 8.1549e-04 - accuracy: 0.9997 - val_loss: 0.0306 - val_accuracy: 0.9976\n",
      "Epoch 55/200\n",
      "27/27 [==============================] - 1s 36ms/step - loss: 0.0046 - accuracy: 0.9994 - val_loss: 0.0252 - val_accuracy: 0.9976\n",
      "Epoch 56/200\n",
      "27/27 [==============================] - 1s 36ms/step - loss: 0.0035 - accuracy: 0.9991 - val_loss: 0.0254 - val_accuracy: 0.9965\n",
      "Epoch 57/200\n",
      "27/27 [==============================] - 1s 37ms/step - loss: 0.0074 - accuracy: 0.9982 - val_loss: 0.0212 - val_accuracy: 0.9965\n",
      "Epoch 58/200\n",
      "27/27 [==============================] - 1s 36ms/step - loss: 0.0108 - accuracy: 0.9982 - val_loss: 0.0166 - val_accuracy: 0.9965\n",
      "Epoch 59/200\n",
      "27/27 [==============================] - 1s 36ms/step - loss: 0.0017 - accuracy: 0.9991 - val_loss: 0.0161 - val_accuracy: 0.9965\n",
      "Epoch 60/200\n",
      "27/27 [==============================] - 1s 37ms/step - loss: 0.0038 - accuracy: 0.9991 - val_loss: 0.0255 - val_accuracy: 0.9976\n",
      "Epoch 61/200\n",
      "27/27 [==============================] - 1s 36ms/step - loss: 0.0012 - accuracy: 0.9994 - val_loss: 0.0184 - val_accuracy: 0.9976\n",
      "Epoch 62/200\n",
      "27/27 [==============================] - 1s 36ms/step - loss: 0.0018 - accuracy: 0.9994 - val_loss: 0.0251 - val_accuracy: 0.9976\n",
      "Epoch 63/200\n",
      "27/27 [==============================] - 1s 36ms/step - loss: 0.0053 - accuracy: 0.9979 - val_loss: 0.0292 - val_accuracy: 0.9965\n",
      "Epoch 64/200\n",
      "27/27 [==============================] - 1s 36ms/step - loss: 0.0051 - accuracy: 0.9988 - val_loss: 0.0343 - val_accuracy: 0.9965\n",
      "Epoch 65/200\n",
      "27/27 [==============================] - 1s 36ms/step - loss: 0.0015 - accuracy: 0.9997 - val_loss: 0.0270 - val_accuracy: 0.9976\n",
      "Epoch 66/200\n",
      "27/27 [==============================] - 1s 36ms/step - loss: 0.0063 - accuracy: 0.9988 - val_loss: 0.0047 - val_accuracy: 0.9976\n",
      "Epoch 67/200\n",
      "27/27 [==============================] - 1s 36ms/step - loss: 0.0028 - accuracy: 0.9991 - val_loss: 0.0176 - val_accuracy: 0.9965\n",
      "Epoch 68/200\n",
      "27/27 [==============================] - 1s 36ms/step - loss: 2.7959e-04 - accuracy: 1.0000 - val_loss: 0.0114 - val_accuracy: 0.9965\n",
      "Epoch 69/200\n",
      "27/27 [==============================] - 1s 36ms/step - loss: 5.9193e-04 - accuracy: 0.9997 - val_loss: 0.0123 - val_accuracy: 0.9965\n",
      "Epoch 70/200\n",
      "27/27 [==============================] - 1s 36ms/step - loss: 0.0011 - accuracy: 0.9997 - val_loss: 0.0344 - val_accuracy: 0.9965\n",
      "Epoch 71/200\n",
      "27/27 [==============================] - 1s 36ms/step - loss: 1.3115e-04 - accuracy: 1.0000 - val_loss: 0.0285 - val_accuracy: 0.9976\n",
      "Epoch 72/200\n",
      "27/27 [==============================] - 1s 36ms/step - loss: 7.8982e-05 - accuracy: 1.0000 - val_loss: 0.0202 - val_accuracy: 0.9976\n",
      "Epoch 73/200\n",
      "27/27 [==============================] - 1s 36ms/step - loss: 2.1709e-04 - accuracy: 1.0000 - val_loss: 0.0241 - val_accuracy: 0.9976\n",
      "Epoch 74/200\n",
      "27/27 [==============================] - 1s 36ms/step - loss: 2.9468e-05 - accuracy: 1.0000 - val_loss: 0.0256 - val_accuracy: 0.9976\n",
      "Epoch 75/200\n",
      "27/27 [==============================] - 1s 36ms/step - loss: 1.8016e-04 - accuracy: 1.0000 - val_loss: 0.0267 - val_accuracy: 0.9965\n",
      "Epoch 76/200\n",
      "27/27 [==============================] - 1s 36ms/step - loss: 1.0326e-04 - accuracy: 1.0000 - val_loss: 0.0267 - val_accuracy: 0.9965\n",
      "Epoch 77/200\n",
      "27/27 [==============================] - 1s 36ms/step - loss: 2.5467e-05 - accuracy: 1.0000 - val_loss: 0.0269 - val_accuracy: 0.9965\n",
      "Epoch 78/200\n",
      "27/27 [==============================] - 1s 36ms/step - loss: 0.0012 - accuracy: 0.9997 - val_loss: 0.0489 - val_accuracy: 0.9965\n",
      "Epoch 79/200\n",
      "27/27 [==============================] - 1s 36ms/step - loss: 6.0617e-04 - accuracy: 0.9997 - val_loss: 0.0209 - val_accuracy: 0.9965\n",
      "Epoch 80/200\n",
      "27/27 [==============================] - 1s 36ms/step - loss: 5.9852e-04 - accuracy: 0.9997 - val_loss: 0.0572 - val_accuracy: 0.9965\n",
      "Epoch 81/200\n",
      "27/27 [==============================] - 1s 36ms/step - loss: 5.0878e-04 - accuracy: 1.0000 - val_loss: 0.0656 - val_accuracy: 0.9953\n",
      "Epoch 82/200\n",
      "27/27 [==============================] - 1s 36ms/step - loss: 9.3084e-05 - accuracy: 1.0000 - val_loss: 0.0559 - val_accuracy: 0.9965\n",
      "Epoch 83/200\n",
      "27/27 [==============================] - 1s 36ms/step - loss: 0.0018 - accuracy: 0.9994 - val_loss: 0.0512 - val_accuracy: 0.9965\n",
      "Epoch 84/200\n",
      "27/27 [==============================] - 1s 36ms/step - loss: 0.0046 - accuracy: 0.9988 - val_loss: 0.0484 - val_accuracy: 0.9965\n",
      "Epoch 85/200\n",
      "27/27 [==============================] - 1s 36ms/step - loss: 0.0106 - accuracy: 0.9967 - val_loss: 0.0536 - val_accuracy: 0.9965\n",
      "Epoch 86/200\n",
      "27/27 [==============================] - 1s 35ms/step - loss: 0.0148 - accuracy: 0.9973 - val_loss: 0.0363 - val_accuracy: 0.9953\n",
      "Epoch 87/200\n",
      "27/27 [==============================] - 1s 36ms/step - loss: 0.0043 - accuracy: 0.9991 - val_loss: 0.0274 - val_accuracy: 0.9953\n",
      "Epoch 88/200\n",
      "27/27 [==============================] - 1s 37ms/step - loss: 8.4164e-04 - accuracy: 0.9997 - val_loss: 0.0541 - val_accuracy: 0.9965\n",
      "Epoch 89/200\n",
      "27/27 [==============================] - 1s 36ms/step - loss: 2.6644e-04 - accuracy: 1.0000 - val_loss: 0.0598 - val_accuracy: 0.9953\n",
      "Epoch 90/200\n",
      "27/27 [==============================] - 1s 36ms/step - loss: 7.5919e-05 - accuracy: 1.0000 - val_loss: 0.0654 - val_accuracy: 0.9941\n",
      "Epoch 91/200\n",
      "27/27 [==============================] - 1s 36ms/step - loss: 1.3521e-04 - accuracy: 1.0000 - val_loss: 0.0658 - val_accuracy: 0.9953\n",
      "Epoch 92/200\n",
      "27/27 [==============================] - 1s 36ms/step - loss: 0.0027 - accuracy: 0.9991 - val_loss: 0.0713 - val_accuracy: 0.9929\n",
      "Epoch 93/200\n",
      "27/27 [==============================] - 1s 36ms/step - loss: 0.0154 - accuracy: 0.9965 - val_loss: 0.0450 - val_accuracy: 0.9965\n",
      "Epoch 94/200\n",
      "27/27 [==============================] - 1s 36ms/step - loss: 0.0130 - accuracy: 0.9962 - val_loss: 0.0136 - val_accuracy: 0.9965\n",
      "Epoch 95/200\n",
      "27/27 [==============================] - 1s 36ms/step - loss: 0.0112 - accuracy: 0.9962 - val_loss: 0.0270 - val_accuracy: 0.9965\n",
      "Epoch 96/200\n",
      "27/27 [==============================] - 1s 36ms/step - loss: 0.0112 - accuracy: 0.9970 - val_loss: 0.0220 - val_accuracy: 0.9953\n",
      "Epoch 97/200\n",
      "27/27 [==============================] - 1s 36ms/step - loss: 0.0081 - accuracy: 0.9979 - val_loss: 0.0055 - val_accuracy: 0.9976\n",
      "Epoch 98/200\n",
      "27/27 [==============================] - 1s 36ms/step - loss: 0.0028 - accuracy: 0.9997 - val_loss: 0.0325 - val_accuracy: 0.9965\n",
      "Epoch 99/200\n",
      "27/27 [==============================] - 1s 36ms/step - loss: 0.0059 - accuracy: 0.9991 - val_loss: 0.0135 - val_accuracy: 0.9976\n",
      "Epoch 100/200\n",
      "27/27 [==============================] - 1s 36ms/step - loss: 0.0020 - accuracy: 0.9994 - val_loss: 0.0262 - val_accuracy: 0.9965\n",
      "Epoch 101/200\n",
      "27/27 [==============================] - 1s 36ms/step - loss: 0.0013 - accuracy: 0.9997 - val_loss: 0.0183 - val_accuracy: 0.9965\n",
      "Epoch 102/200\n",
      "27/27 [==============================] - 1s 36ms/step - loss: 1.1418e-04 - accuracy: 1.0000 - val_loss: 0.0237 - val_accuracy: 0.9965\n",
      "Epoch 103/200\n",
      "27/27 [==============================] - 1s 36ms/step - loss: 0.0023 - accuracy: 0.9994 - val_loss: 0.0366 - val_accuracy: 0.9965\n",
      "Epoch 104/200\n",
      "27/27 [==============================] - 1s 36ms/step - loss: 4.1398e-04 - accuracy: 0.9997 - val_loss: 0.0384 - val_accuracy: 0.9965\n",
      "Epoch 105/200\n",
      "27/27 [==============================] - 1s 36ms/step - loss: 8.4249e-04 - accuracy: 0.9997 - val_loss: 0.0412 - val_accuracy: 0.9965\n",
      "Epoch 106/200\n",
      "27/27 [==============================] - 1s 36ms/step - loss: 0.0049 - accuracy: 0.9997 - val_loss: 0.0656 - val_accuracy: 0.9905\n",
      "Epoch 107/200\n",
      "27/27 [==============================] - 1s 36ms/step - loss: 0.0055 - accuracy: 0.9991 - val_loss: 0.0279 - val_accuracy: 0.9965\n",
      "Epoch 108/200\n",
      "27/27 [==============================] - 1s 36ms/step - loss: 4.3832e-04 - accuracy: 1.0000 - val_loss: 0.0309 - val_accuracy: 0.9976\n",
      "Epoch 109/200\n",
      "27/27 [==============================] - 1s 36ms/step - loss: 0.0104 - accuracy: 0.9982 - val_loss: 0.0131 - val_accuracy: 0.9953\n",
      "Epoch 110/200\n",
      "27/27 [==============================] - 1s 36ms/step - loss: 0.0077 - accuracy: 0.9967 - val_loss: 0.0282 - val_accuracy: 0.9976\n",
      "Epoch 111/200\n",
      "27/27 [==============================] - 1s 36ms/step - loss: 0.0097 - accuracy: 0.9985 - val_loss: 0.0276 - val_accuracy: 0.9965\n",
      "Epoch 112/200\n",
      "27/27 [==============================] - 1s 36ms/step - loss: 0.0085 - accuracy: 0.9985 - val_loss: 0.0486 - val_accuracy: 0.9953\n",
      "Epoch 113/200\n",
      "27/27 [==============================] - 1s 36ms/step - loss: 0.0060 - accuracy: 0.9985 - val_loss: 0.0391 - val_accuracy: 0.9953\n",
      "Epoch 114/200\n",
      "27/27 [==============================] - 1s 36ms/step - loss: 0.0117 - accuracy: 0.9973 - val_loss: 0.0290 - val_accuracy: 0.9965\n",
      "Epoch 115/200\n",
      "27/27 [==============================] - 1s 36ms/step - loss: 0.0040 - accuracy: 0.9982 - val_loss: 0.0231 - val_accuracy: 0.9965\n",
      "Epoch 116/200\n",
      "27/27 [==============================] - 1s 36ms/step - loss: 0.0151 - accuracy: 0.9982 - val_loss: 0.0265 - val_accuracy: 0.9976\n",
      "Epoch 117/200\n",
      "27/27 [==============================] - 1s 36ms/step - loss: 0.0014 - accuracy: 0.9991 - val_loss: 0.0262 - val_accuracy: 0.9976\n",
      "Epoch 118/200\n",
      "27/27 [==============================] - 1s 36ms/step - loss: 0.0033 - accuracy: 0.9994 - val_loss: 0.0341 - val_accuracy: 0.9976\n",
      "Epoch 119/200\n",
      "27/27 [==============================] - 1s 36ms/step - loss: 5.4461e-04 - accuracy: 0.9997 - val_loss: 0.0381 - val_accuracy: 0.9976\n",
      "Epoch 120/200\n",
      "27/27 [==============================] - 1s 36ms/step - loss: 4.8492e-04 - accuracy: 0.9997 - val_loss: 0.0409 - val_accuracy: 0.9976\n",
      "Epoch 121/200\n",
      "27/27 [==============================] - 1s 36ms/step - loss: 0.0022 - accuracy: 0.9994 - val_loss: 0.0311 - val_accuracy: 0.9976\n",
      "Epoch 122/200\n",
      "27/27 [==============================] - 1s 36ms/step - loss: 9.2485e-04 - accuracy: 0.9997 - val_loss: 0.0340 - val_accuracy: 0.9976\n",
      "Epoch 123/200\n",
      "27/27 [==============================] - 1s 36ms/step - loss: 0.0021 - accuracy: 0.9991 - val_loss: 0.0538 - val_accuracy: 0.9965\n",
      "Epoch 124/200\n",
      "27/27 [==============================] - 1s 36ms/step - loss: 9.6076e-04 - accuracy: 0.9994 - val_loss: 0.0331 - val_accuracy: 0.9976\n",
      "Epoch 125/200\n",
      "27/27 [==============================] - 1s 36ms/step - loss: 0.0141 - accuracy: 0.9965 - val_loss: 0.0420 - val_accuracy: 0.9965\n",
      "Epoch 126/200\n",
      "27/27 [==============================] - 1s 36ms/step - loss: 0.0191 - accuracy: 0.9953 - val_loss: 0.0508 - val_accuracy: 0.9965\n",
      "Epoch 127/200\n",
      "27/27 [==============================] - 1s 36ms/step - loss: 0.0083 - accuracy: 0.9976 - val_loss: 0.0207 - val_accuracy: 0.9976\n",
      "Epoch 128/200\n",
      "27/27 [==============================] - 1s 36ms/step - loss: 0.0055 - accuracy: 0.9979 - val_loss: 0.0035 - val_accuracy: 0.9988\n",
      "Epoch 129/200\n",
      "27/27 [==============================] - 1s 36ms/step - loss: 0.0029 - accuracy: 0.9994 - val_loss: 0.0180 - val_accuracy: 0.9976\n",
      "Epoch 130/200\n",
      "27/27 [==============================] - 1s 36ms/step - loss: 6.3819e-04 - accuracy: 0.9997 - val_loss: 0.0234 - val_accuracy: 0.9976\n",
      "Epoch 131/200\n",
      "27/27 [==============================] - 1s 36ms/step - loss: 3.5403e-04 - accuracy: 1.0000 - val_loss: 0.0207 - val_accuracy: 0.9976\n",
      "Epoch 132/200\n",
      "27/27 [==============================] - 1s 36ms/step - loss: 2.0390e-04 - accuracy: 1.0000 - val_loss: 0.0381 - val_accuracy: 0.9976\n",
      "Epoch 133/200\n",
      "27/27 [==============================] - 1s 36ms/step - loss: 8.2841e-05 - accuracy: 1.0000 - val_loss: 0.0416 - val_accuracy: 0.9976\n",
      "Epoch 134/200\n",
      "27/27 [==============================] - 1s 36ms/step - loss: 0.0022 - accuracy: 0.9994 - val_loss: 0.0433 - val_accuracy: 0.9976\n",
      "Epoch 135/200\n",
      "27/27 [==============================] - 1s 36ms/step - loss: 7.3005e-04 - accuracy: 0.9997 - val_loss: 0.0104 - val_accuracy: 0.9976\n",
      "Epoch 136/200\n",
      "27/27 [==============================] - 1s 35ms/step - loss: 2.4080e-04 - accuracy: 1.0000 - val_loss: 0.0322 - val_accuracy: 0.9976\n",
      "Epoch 137/200\n",
      "27/27 [==============================] - 1s 36ms/step - loss: 2.4220e-04 - accuracy: 1.0000 - val_loss: 0.0366 - val_accuracy: 0.9976\n",
      "Epoch 138/200\n",
      "27/27 [==============================] - 1s 36ms/step - loss: 2.5329e-04 - accuracy: 1.0000 - val_loss: 0.0444 - val_accuracy: 0.9976\n",
      "Epoch 139/200\n",
      "27/27 [==============================] - 1s 36ms/step - loss: 5.1455e-05 - accuracy: 1.0000 - val_loss: 0.0475 - val_accuracy: 0.9976\n",
      "Epoch 140/200\n",
      "27/27 [==============================] - 1s 36ms/step - loss: 2.8200e-04 - accuracy: 1.0000 - val_loss: 0.0437 - val_accuracy: 0.9976\n",
      "Epoch 141/200\n",
      "27/27 [==============================] - 1s 36ms/step - loss: 2.0309e-05 - accuracy: 1.0000 - val_loss: 0.0463 - val_accuracy: 0.9976\n",
      "Epoch 142/200\n",
      "27/27 [==============================] - 1s 36ms/step - loss: 1.2341e-04 - accuracy: 1.0000 - val_loss: 0.0464 - val_accuracy: 0.9976\n",
      "Epoch 143/200\n",
      "27/27 [==============================] - 1s 36ms/step - loss: 0.0010 - accuracy: 0.9997 - val_loss: 0.0478 - val_accuracy: 0.9976\n",
      "Epoch 144/200\n",
      "27/27 [==============================] - 1s 37ms/step - loss: 0.0053 - accuracy: 0.9991 - val_loss: 0.0208 - val_accuracy: 0.9976\n",
      "Epoch 145/200\n",
      "27/27 [==============================] - 1s 37ms/step - loss: 0.0019 - accuracy: 0.9994 - val_loss: 0.0173 - val_accuracy: 0.9976\n",
      "Epoch 146/200\n",
      "27/27 [==============================] - 1s 37ms/step - loss: 0.0053 - accuracy: 0.9985 - val_loss: 0.0065 - val_accuracy: 0.9988\n",
      "Epoch 147/200\n",
      "27/27 [==============================] - 1s 36ms/step - loss: 0.0010 - accuracy: 0.9997 - val_loss: 0.0218 - val_accuracy: 0.9976\n",
      "Epoch 148/200\n",
      "27/27 [==============================] - 1s 36ms/step - loss: 3.4932e-04 - accuracy: 1.0000 - val_loss: 0.0281 - val_accuracy: 0.9976\n",
      "Epoch 149/200\n",
      "27/27 [==============================] - 1s 36ms/step - loss: 7.1509e-05 - accuracy: 1.0000 - val_loss: 0.0402 - val_accuracy: 0.9976\n",
      "Epoch 150/200\n",
      "27/27 [==============================] - 1s 36ms/step - loss: 0.0012 - accuracy: 0.9994 - val_loss: 0.0342 - val_accuracy: 0.9976\n",
      "Epoch 151/200\n",
      "27/27 [==============================] - 1s 35ms/step - loss: 5.0385e-04 - accuracy: 1.0000 - val_loss: 0.0581 - val_accuracy: 0.9976\n",
      "Epoch 152/200\n",
      "27/27 [==============================] - 1s 36ms/step - loss: 9.7833e-05 - accuracy: 1.0000 - val_loss: 0.0663 - val_accuracy: 0.9976\n",
      "Epoch 153/200\n",
      "27/27 [==============================] - 1s 36ms/step - loss: 1.4627e-04 - accuracy: 1.0000 - val_loss: 0.0624 - val_accuracy: 0.9976\n",
      "Epoch 154/200\n",
      "27/27 [==============================] - 1s 36ms/step - loss: 8.3676e-05 - accuracy: 1.0000 - val_loss: 0.0596 - val_accuracy: 0.9976\n",
      "Epoch 155/200\n",
      "27/27 [==============================] - 1s 36ms/step - loss: 4.1911e-05 - accuracy: 1.0000 - val_loss: 0.0598 - val_accuracy: 0.9976\n",
      "Epoch 156/200\n",
      "27/27 [==============================] - 1s 36ms/step - loss: 1.3064e-04 - accuracy: 1.0000 - val_loss: 0.0625 - val_accuracy: 0.9976\n",
      "Epoch 157/200\n",
      "27/27 [==============================] - 1s 36ms/step - loss: 0.0013 - accuracy: 0.9994 - val_loss: 0.0618 - val_accuracy: 0.9976\n",
      "Epoch 158/200\n",
      "27/27 [==============================] - 1s 36ms/step - loss: 6.8353e-04 - accuracy: 0.9997 - val_loss: 0.0419 - val_accuracy: 0.9976\n",
      "Epoch 159/200\n",
      "27/27 [==============================] - 1s 37ms/step - loss: 7.2840e-04 - accuracy: 0.9997 - val_loss: 0.0546 - val_accuracy: 0.9976\n",
      "Epoch 160/200\n",
      "27/27 [==============================] - 1s 36ms/step - loss: 0.0023 - accuracy: 0.9988 - val_loss: 0.0311 - val_accuracy: 0.9953\n",
      "Epoch 161/200\n",
      "27/27 [==============================] - 1s 36ms/step - loss: 0.0144 - accuracy: 0.9970 - val_loss: 0.0294 - val_accuracy: 0.9976\n",
      "Epoch 162/200\n",
      "27/27 [==============================] - 1s 36ms/step - loss: 0.0070 - accuracy: 0.9973 - val_loss: 0.0209 - val_accuracy: 0.9965\n",
      "Epoch 163/200\n",
      "27/27 [==============================] - 1s 36ms/step - loss: 0.0094 - accuracy: 0.9973 - val_loss: 0.0501 - val_accuracy: 0.9976\n",
      "Epoch 164/200\n",
      "27/27 [==============================] - 1s 36ms/step - loss: 0.0108 - accuracy: 0.9985 - val_loss: 0.0324 - val_accuracy: 0.9976\n",
      "Epoch 165/200\n",
      "27/27 [==============================] - 1s 36ms/step - loss: 0.0012 - accuracy: 0.9997 - val_loss: 0.0300 - val_accuracy: 0.9965\n",
      "Epoch 166/200\n",
      "27/27 [==============================] - 1s 36ms/step - loss: 0.0034 - accuracy: 0.9994 - val_loss: 0.0552 - val_accuracy: 0.9965\n",
      "Epoch 167/200\n",
      "27/27 [==============================] - 1s 36ms/step - loss: 0.0035 - accuracy: 0.9988 - val_loss: 0.0267 - val_accuracy: 0.9965\n",
      "Epoch 168/200\n",
      "27/27 [==============================] - 1s 36ms/step - loss: 0.0052 - accuracy: 0.9991 - val_loss: 0.0266 - val_accuracy: 0.9976\n",
      "Epoch 169/200\n",
      "27/27 [==============================] - 1s 36ms/step - loss: 0.0090 - accuracy: 0.9991 - val_loss: 0.0297 - val_accuracy: 0.9976\n",
      "Epoch 170/200\n",
      "27/27 [==============================] - 1s 36ms/step - loss: 0.0011 - accuracy: 0.9994 - val_loss: 0.0250 - val_accuracy: 0.9965\n",
      "Epoch 171/200\n",
      "27/27 [==============================] - 1s 36ms/step - loss: 0.0159 - accuracy: 0.9985 - val_loss: 0.0256 - val_accuracy: 0.9965\n",
      "Epoch 172/200\n",
      "27/27 [==============================] - 1s 36ms/step - loss: 0.0054 - accuracy: 0.9979 - val_loss: 0.0309 - val_accuracy: 0.9965\n",
      "Epoch 173/200\n",
      "27/27 [==============================] - 1s 36ms/step - loss: 0.0043 - accuracy: 0.9988 - val_loss: 0.0289 - val_accuracy: 0.9965\n",
      "Epoch 174/200\n",
      "27/27 [==============================] - 1s 36ms/step - loss: 0.0047 - accuracy: 0.9985 - val_loss: 0.0293 - val_accuracy: 0.9965\n",
      "Epoch 175/200\n",
      "27/27 [==============================] - 1s 36ms/step - loss: 0.0056 - accuracy: 0.9988 - val_loss: 0.0192 - val_accuracy: 0.9976\n",
      "Epoch 176/200\n",
      "27/27 [==============================] - 1s 36ms/step - loss: 0.0043 - accuracy: 0.9979 - val_loss: 0.0183 - val_accuracy: 0.9976\n",
      "Epoch 177/200\n",
      "27/27 [==============================] - 1s 36ms/step - loss: 2.2637e-04 - accuracy: 1.0000 - val_loss: 0.0144 - val_accuracy: 0.9965\n",
      "Epoch 178/200\n",
      "27/27 [==============================] - 1s 37ms/step - loss: 4.2023e-04 - accuracy: 1.0000 - val_loss: 0.0468 - val_accuracy: 0.9976\n",
      "Epoch 179/200\n",
      "27/27 [==============================] - 1s 36ms/step - loss: 0.0011 - accuracy: 0.9994 - val_loss: 0.0890 - val_accuracy: 0.9953\n",
      "Epoch 180/200\n",
      "27/27 [==============================] - 1s 37ms/step - loss: 3.9793e-04 - accuracy: 1.0000 - val_loss: 0.0742 - val_accuracy: 0.9976\n",
      "Epoch 181/200\n",
      "27/27 [==============================] - 1s 37ms/step - loss: 0.0140 - accuracy: 0.9970 - val_loss: 0.0229 - val_accuracy: 0.9953\n",
      "Epoch 182/200\n",
      "27/27 [==============================] - 1s 36ms/step - loss: 0.0126 - accuracy: 0.9970 - val_loss: 0.0147 - val_accuracy: 0.9941\n",
      "Epoch 183/200\n",
      "27/27 [==============================] - 1s 37ms/step - loss: 0.0042 - accuracy: 0.9988 - val_loss: 0.0237 - val_accuracy: 0.9976\n",
      "Epoch 184/200\n",
      "27/27 [==============================] - 1s 37ms/step - loss: 0.0091 - accuracy: 0.9991 - val_loss: 0.0036 - val_accuracy: 0.9976\n",
      "Epoch 185/200\n",
      "27/27 [==============================] - 1s 37ms/step - loss: 0.0018 - accuracy: 0.9994 - val_loss: 0.0066 - val_accuracy: 0.9976\n",
      "Epoch 186/200\n",
      "27/27 [==============================] - 1s 37ms/step - loss: 3.2070e-04 - accuracy: 1.0000 - val_loss: 0.0274 - val_accuracy: 0.9976\n",
      "Epoch 187/200\n",
      "27/27 [==============================] - 1s 36ms/step - loss: 0.0017 - accuracy: 0.9994 - val_loss: 0.0134 - val_accuracy: 0.9976\n",
      "Epoch 188/200\n",
      "27/27 [==============================] - 1s 36ms/step - loss: 6.0868e-04 - accuracy: 0.9997 - val_loss: 0.0224 - val_accuracy: 0.9976\n",
      "Epoch 189/200\n",
      "27/27 [==============================] - 1s 36ms/step - loss: 8.4983e-04 - accuracy: 0.9997 - val_loss: 0.0253 - val_accuracy: 0.9976\n",
      "Epoch 190/200\n",
      "27/27 [==============================] - 1s 36ms/step - loss: 5.9473e-04 - accuracy: 0.9997 - val_loss: 0.0180 - val_accuracy: 0.9976\n",
      "Epoch 191/200\n",
      "27/27 [==============================] - 1s 36ms/step - loss: 1.2743e-04 - accuracy: 1.0000 - val_loss: 0.0292 - val_accuracy: 0.9976\n",
      "Epoch 192/200\n",
      "27/27 [==============================] - 1s 36ms/step - loss: 1.6492e-04 - accuracy: 1.0000 - val_loss: 0.0256 - val_accuracy: 0.9976\n",
      "Epoch 193/200\n",
      "27/27 [==============================] - 1s 35ms/step - loss: 2.3928e-05 - accuracy: 1.0000 - val_loss: 0.0298 - val_accuracy: 0.9976\n",
      "Epoch 194/200\n",
      "27/27 [==============================] - 1s 36ms/step - loss: 0.0015 - accuracy: 0.9997 - val_loss: 0.0256 - val_accuracy: 0.9976\n",
      "Epoch 195/200\n",
      "27/27 [==============================] - 1s 36ms/step - loss: 2.2111e-05 - accuracy: 1.0000 - val_loss: 0.0515 - val_accuracy: 0.9976\n",
      "Epoch 196/200\n",
      "27/27 [==============================] - 1s 35ms/step - loss: 9.0717e-06 - accuracy: 1.0000 - val_loss: 0.0531 - val_accuracy: 0.9976\n",
      "Epoch 197/200\n",
      "27/27 [==============================] - 1s 36ms/step - loss: 1.8033e-06 - accuracy: 1.0000 - val_loss: 0.0536 - val_accuracy: 0.9976\n",
      "Epoch 198/200\n",
      "27/27 [==============================] - 1s 37ms/step - loss: 6.9309e-05 - accuracy: 1.0000 - val_loss: 0.0545 - val_accuracy: 0.9976\n",
      "Epoch 199/200\n",
      "27/27 [==============================] - 1s 36ms/step - loss: 4.5131e-06 - accuracy: 1.0000 - val_loss: 0.0550 - val_accuracy: 0.9976\n",
      "Epoch 200/200\n",
      "27/27 [==============================] - 1s 35ms/step - loss: 5.4264e-04 - accuracy: 0.9997 - val_loss: 0.0831 - val_accuracy: 0.9976\n"
     ]
    },
    {
     "data": {
      "text/plain": [
       "<tensorflow.python.keras.callbacks.History at 0x7efd8005d7b8>"
      ]
     },
     "execution_count": 15,
     "metadata": {
      "tags": []
     },
     "output_type": "execute_result"
    }
   ],
   "source": [
    "# training the model\n",
    "model.fit(X_train, y_train, epochs=200, validation_data=(X_test, y_test), callbacks=[mcp_save], batch_size=128)"
   ]
  },
  {
   "cell_type": "code",
   "execution_count": null,
   "metadata": {
    "colab": {
     "base_uri": "https://localhost:8080/",
     "height": 206
    },
    "id": "OUj6e5ZA3WJ7",
    "outputId": "7d528bb7-6b16-4bb1-f18b-9c58884a8810"
   },
   "outputs": [
    {
     "data": {
      "text/html": [
       "<div>\n",
       "<style scoped>\n",
       "    .dataframe tbody tr th:only-of-type {\n",
       "        vertical-align: middle;\n",
       "    }\n",
       "\n",
       "    .dataframe tbody tr th {\n",
       "        vertical-align: top;\n",
       "    }\n",
       "\n",
       "    .dataframe thead th {\n",
       "        text-align: right;\n",
       "    }\n",
       "</style>\n",
       "<table border=\"1\" class=\"dataframe\">\n",
       "  <thead>\n",
       "    <tr style=\"text-align: right;\">\n",
       "      <th></th>\n",
       "      <th>video_name</th>\n",
       "    </tr>\n",
       "  </thead>\n",
       "  <tbody>\n",
       "    <tr>\n",
       "      <th>0</th>\n",
       "      <td>Harassment/Harassment_h7.mp4</td>\n",
       "    </tr>\n",
       "    <tr>\n",
       "      <th>1</th>\n",
       "      <td>Harassment/Harassment_h11.mp4</td>\n",
       "    </tr>\n",
       "    <tr>\n",
       "      <th>2</th>\n",
       "      <td>Harassment/Harassment_h16.mp4</td>\n",
       "    </tr>\n",
       "    <tr>\n",
       "      <th>3</th>\n",
       "      <td>Harassment/Harassment_h20.mp4</td>\n",
       "    </tr>\n",
       "    <tr>\n",
       "      <th>4</th>\n",
       "      <td>Harassment/Harassment_h23.mp4</td>\n",
       "    </tr>\n",
       "  </tbody>\n",
       "</table>\n",
       "</div>"
      ],
      "text/plain": [
       "                      video_name\n",
       "0   Harassment/Harassment_h7.mp4\n",
       "1  Harassment/Harassment_h11.mp4\n",
       "2  Harassment/Harassment_h16.mp4\n",
       "3  Harassment/Harassment_h20.mp4\n",
       "4  Harassment/Harassment_h23.mp4"
      ]
     },
     "execution_count": 16,
     "metadata": {
      "tags": []
     },
     "output_type": "execute_result"
    }
   ],
   "source": [
    "# getting the test list\n",
    "f = open(\"test.txt\", \"r\")\n",
    "temp = f.read()\n",
    "videos = temp.split('\\n')\n",
    "\n",
    "# creating the dataframe\n",
    "test = pd.DataFrame()\n",
    "test['video_name'] = videos\n",
    "test = test[:-1]\n",
    "test_videos = test['video_name']\n",
    "test.head()"
   ]
  },
  {
   "cell_type": "code",
   "execution_count": null,
   "metadata": {
    "id": "_aewP1Xz3WOf"
   },
   "outputs": [],
   "source": [
    "# creating the tags\n",
    "train = pd.read_csv('Data/train_new.csv')\n",
    "y = train['class']\n",
    "y = pd.get_dummies(y)"
   ]
  },
  {
   "cell_type": "code",
   "execution_count": null,
   "metadata": {
    "colab": {
     "base_uri": "https://localhost:8080/"
    },
    "id": "o4mH5LdJ3WNA",
    "outputId": "198ada6e-dfbb-444b-e88d-72aabd3f0582"
   },
   "outputs": [
    {
     "name": "stderr",
     "output_type": "stream",
     "text": [
      "\r\n",
      "  0%|          | 0/20 [00:00<?, ?it/s]"
     ]
    },
    {
     "name": "stdout",
     "output_type": "stream",
     "text": [
      "WARNING:tensorflow:From <ipython-input-18-a5530dd9c98f>:46: Sequential.predict_classes (from tensorflow.python.keras.engine.sequential) is deprecated and will be removed after 2021-01-01.\n",
      "Instructions for updating:\n",
      "Please use instead:* `np.argmax(model.predict(x), axis=-1)`,   if your model does multi-class classification   (e.g. if it uses a `softmax` last-layer activation).* `(model.predict(x) > 0.5).astype(\"int32\")`,   if your model does binary classification   (e.g. if it uses a `sigmoid` last-layer activation).\n"
     ]
    },
    {
     "name": "stderr",
     "output_type": "stream",
     "text": [
      "100%|██████████| 20/20 [01:27<00:00,  4.37s/it]\n"
     ]
    }
   ],
   "source": [
    "\n",
    "from scipy import stats as s\n",
    "# creating two lists to store predicted and actual tags\n",
    "predict = []\n",
    "actual = []\n",
    "\n",
    "# for loop to extract frames from each test video\n",
    "for i in tqdm(range(test_videos.shape[0])):\n",
    "    count = 0\n",
    "    videoFile = test_videos[i]\n",
    "    cap = cv2.VideoCapture('Data/'+videoFile)   # capturing the video from the given path\n",
    "    frameRate = cap.get(5) #frame rate\n",
    "    x=1\n",
    "    # removing all other files from the temp folder\n",
    "    files = glob('temp/*')\n",
    "    for f in files:\n",
    "        os.remove(f)\n",
    "    while(cap.isOpened()):\n",
    "        frameId = cap.get(1) #current frame number\n",
    "        ret, frame = cap.read()\n",
    "        if (ret != True):\n",
    "            break\n",
    "        if (frameId % 3 == 0):\n",
    "            # storing the frames of this particular video in temp folder\n",
    "            filename ='temp/' + \"_frame%d.jpg\" % count;count+=1\n",
    "            cv2.imwrite(filename, frame)\n",
    "    cap.release()\n",
    "    \n",
    "    # reading all the frames from temp folder\n",
    "    images = glob(\"temp/*.jpg\")\n",
    "    \n",
    "    prediction_images = []\n",
    "    for i in range(len(images)):\n",
    "        img = image.load_img(images[i], target_size=(224,224,3))\n",
    "        img = image.img_to_array(img)\n",
    "        img = img/255.0\n",
    "        prediction_images.append(img)\n",
    "        \n",
    "    # converting all the frames for a test video into numpy array\n",
    "    prediction_images = np.array(prediction_images)\n",
    "    # extracting features using pre-trained model\n",
    "    prediction_images = base_model.predict(prediction_images)\n",
    "    # converting features in one dimensional array\n",
    "    prediction_images = prediction_images.reshape(prediction_images.shape[0], 7*7*2048)\n",
    "    # predicting tags for each array\n",
    "    prediction = model.predict_classes(prediction_images)\n",
    "    # appending the mode of predictions in predict list to assign the tag to the video\n",
    "    predict.append(y.columns.values[s.mode(prediction)[0][0]])\n",
    "    # appending the actual tag of the video\n",
    "    if (videoFile.split('/')[1].split('_')[0] == 'Harassment'):\n",
    "        actual.append(1)\n",
    "    else:\n",
    "        actual.append(0)\n",
    "    # actual.append(videoFile.split('/')[1].split('_')[1])"
   ]
  },
  {
   "cell_type": "code",
   "execution_count": null,
   "metadata": {
    "colab": {
     "base_uri": "https://localhost:8080/"
    },
    "id": "V9Nv7-Dw4PK_",
    "outputId": "0b5393ae-77ec-492a-bad0-750cfafa63c1"
   },
   "outputs": [
    {
     "data": {
      "text/plain": [
       "95.0"
      ]
     },
     "execution_count": 19,
     "metadata": {
      "tags": []
     },
     "output_type": "execute_result"
    }
   ],
   "source": [
    "# checking the accuracy of the predicted tags\n",
    "from sklearn.metrics import accuracy_score\n",
    "accuracy_score(predict, actual)*100"
   ]
  },
  {
   "cell_type": "code",
   "execution_count": null,
   "metadata": {
    "id": "kh1bnSwK4PJX"
   },
   "outputs": [],
   "source": []
  }
 ],
 "metadata": {
  "accelerator": "GPU",
  "colab": {
   "collapsed_sections": [],
   "machine_shape": "hm",
   "name": "Harassment _Final_V2.ipynb",
   "provenance": []
  },
  "kernelspec": {
   "display_name": "Python 3",
   "language": "python",
   "name": "python3"
  },
  "language_info": {
   "codemirror_mode": {
    "name": "ipython",
    "version": 3
   },
   "file_extension": ".py",
   "mimetype": "text/x-python",
   "name": "python",
   "nbconvert_exporter": "python",
   "pygments_lexer": "ipython3",
   "version": "3.10.11"
  }
 },
 "nbformat": 4,
 "nbformat_minor": 1
}
