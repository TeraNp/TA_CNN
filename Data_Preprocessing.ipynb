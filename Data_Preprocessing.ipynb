{
 "cells": [
  {
   "attachments": {},
   "cell_type": "markdown",
   "metadata": {
    "id": "5EA-xt9fqBrA"
   },
   "source": [
    "Videos to Frame"
   ]
  },
  {
   "cell_type": "code",
   "execution_count": 1,
   "metadata": {
    "id": "tAb77yZ9fzMG"
   },
   "outputs": [],
   "source": [
    "import cv2                              # for capturing videos\n",
    "import math                             # for mathematical operations\n",
    "import matplotlib.pyplot as plt         # for plotting the images\n",
    "%matplotlib inline\n",
    "import pandas as pd\n",
    "from keras.preprocessing import image   # for preprocessing the images\n",
    "import numpy as np                      # for mathematical operations\n",
    "from keras.utils import np_utils\n",
    "from skimage.transform import resize    # for resizing images\n",
    "from sklearn.model_selection import train_test_split\n",
    "from glob import glob\n",
    "from tqdm import tqdm"
   ]
  },
  {
   "cell_type": "code",
   "execution_count": 2,
   "metadata": {
    "colab": {
     "base_uri": "https://localhost:8080/",
     "height": 206
    },
    "id": "pafL7Li0jyXW",
    "outputId": "dfa75bae-e964-4ae1-e5ed-2cb0d11ddfee"
   },
   "outputs": [
    {
     "data": {
      "text/html": [
       "<div>\n",
       "<style scoped>\n",
       "    .dataframe tbody tr th:only-of-type {\n",
       "        vertical-align: middle;\n",
       "    }\n",
       "\n",
       "    .dataframe tbody tr th {\n",
       "        vertical-align: top;\n",
       "    }\n",
       "\n",
       "    .dataframe thead th {\n",
       "        text-align: right;\n",
       "    }\n",
       "</style>\n",
       "<table border=\"1\" class=\"dataframe\">\n",
       "  <thead>\n",
       "    <tr style=\"text-align: right;\">\n",
       "      <th></th>\n",
       "      <th>video_name</th>\n",
       "    </tr>\n",
       "  </thead>\n",
       "  <tbody>\n",
       "    <tr>\n",
       "      <th>0</th>\n",
       "      <td>harassment/harassment_shv1.mp4</td>\n",
       "    </tr>\n",
       "    <tr>\n",
       "      <th>1</th>\n",
       "      <td>harassment/harassment_shv2.mp4</td>\n",
       "    </tr>\n",
       "    <tr>\n",
       "      <th>2</th>\n",
       "      <td>harassment/harassment_shv3.mp4</td>\n",
       "    </tr>\n",
       "    <tr>\n",
       "      <th>3</th>\n",
       "      <td>harassment/harassment_shv4.mp4</td>\n",
       "    </tr>\n",
       "    <tr>\n",
       "      <th>4</th>\n",
       "      <td>harassment/harassment_shv5.mp4</td>\n",
       "    </tr>\n",
       "  </tbody>\n",
       "</table>\n",
       "</div>"
      ],
      "text/plain": [
       "                       video_name\n",
       "0  harassment/harassment_shv1.mp4\n",
       "1  harassment/harassment_shv2.mp4\n",
       "2  harassment/harassment_shv3.mp4\n",
       "3  harassment/harassment_shv4.mp4\n",
       "4  harassment/harassment_shv5.mp4"
      ]
     },
     "execution_count": 2,
     "metadata": {},
     "output_type": "execute_result"
    }
   ],
   "source": [
    "# open the .txt file which have names of training videos\n",
    "f = open(\"train.txt\", \"r\")\n",
    "temp = f.read()\n",
    "videos = temp.split('\\n')\n",
    "\n",
    "# creating a dataframe having video names\n",
    "train = pd.DataFrame()\n",
    "train['video_name'] = videos\n",
    "train = train[:-1]\n",
    "train.head()"
   ]
  },
  {
   "cell_type": "code",
   "execution_count": 3,
   "metadata": {
    "colab": {
     "base_uri": "https://localhost:8080/",
     "height": 206
    },
    "id": "yv1y7Po0t31x",
    "outputId": "798183ee-36ea-4767-fc00-6506a0df66d8"
   },
   "outputs": [
    {
     "data": {
      "text/html": [
       "<div>\n",
       "<style scoped>\n",
       "    .dataframe tbody tr th:only-of-type {\n",
       "        vertical-align: middle;\n",
       "    }\n",
       "\n",
       "    .dataframe tbody tr th {\n",
       "        vertical-align: top;\n",
       "    }\n",
       "\n",
       "    .dataframe thead th {\n",
       "        text-align: right;\n",
       "    }\n",
       "</style>\n",
       "<table border=\"1\" class=\"dataframe\">\n",
       "  <thead>\n",
       "    <tr style=\"text-align: right;\">\n",
       "      <th></th>\n",
       "      <th>video_name</th>\n",
       "    </tr>\n",
       "  </thead>\n",
       "  <tbody>\n",
       "    <tr>\n",
       "      <th>0</th>\n",
       "      <td>harassment/harassment_shv4.mp4</td>\n",
       "    </tr>\n",
       "    <tr>\n",
       "      <th>1</th>\n",
       "      <td>harassment/harassment_shv8.mp4</td>\n",
       "    </tr>\n",
       "    <tr>\n",
       "      <th>2</th>\n",
       "      <td>harassment/harassment_shv14.mp4</td>\n",
       "    </tr>\n",
       "    <tr>\n",
       "      <th>3</th>\n",
       "      <td>harassment/harassment_shv18.mp4</td>\n",
       "    </tr>\n",
       "    <tr>\n",
       "      <th>4</th>\n",
       "      <td>non_harassment/non4.mp4</td>\n",
       "    </tr>\n",
       "  </tbody>\n",
       "</table>\n",
       "</div>"
      ],
      "text/plain": [
       "                        video_name\n",
       "0   harassment/harassment_shv4.mp4\n",
       "1   harassment/harassment_shv8.mp4\n",
       "2  harassment/harassment_shv14.mp4\n",
       "3  harassment/harassment_shv18.mp4\n",
       "4          non_harassment/non4.mp4"
      ]
     },
     "execution_count": 3,
     "metadata": {},
     "output_type": "execute_result"
    }
   ],
   "source": [
    "# open the .txt file which have names of test videos\n",
    "f = open(\"test.txt\", \"r\")\n",
    "temp = f.read()\n",
    "videos = temp.split('\\n')\n",
    "\n",
    "# creating a dataframe having video names\n",
    "test = pd.DataFrame()\n",
    "test['video_name'] = videos\n",
    "test = test[:-1]\n",
    "test.head()"
   ]
  },
  {
   "cell_type": "code",
   "execution_count": 4,
   "metadata": {
    "colab": {
     "base_uri": "https://localhost:8080/"
    },
    "id": "f3gfzM-8t35Y",
    "outputId": "0dc9b260-6557-49e9-89fa-e55c87407fc6"
   },
   "outputs": [
    {
     "data": {
      "text/plain": [
       "(39, 2)"
      ]
     },
     "execution_count": 4,
     "metadata": {},
     "output_type": "execute_result"
    }
   ],
   "source": [
    "# creating tags for training videos\n",
    "train_video_tag = []\n",
    "for i in range(train.shape[0]):\n",
    "    train_video_tag.append(train['video_name'][i].split('/')[0])\n",
    "    \n",
    "train['tag'] = train_video_tag\n",
    "\n",
    "# creating tags for test videos\n",
    "test_video_tag = []\n",
    "for i in range(test.shape[0]):\n",
    "    test_video_tag.append(test['video_name'][i].split('/')[0])\n",
    "    \n",
    "test['tag'] = test_video_tag\n",
    "train.shape"
   ]
  },
  {
   "cell_type": "code",
   "execution_count": 5,
   "metadata": {
    "colab": {
     "base_uri": "https://localhost:8080/"
    },
    "id": "ZpsRa3QOt37e",
    "outputId": "a5c682a2-6562-47b7-9d7c-c63a6bb62d4a"
   },
   "outputs": [
    {
     "data": {
      "text/plain": [
       "<bound method NDFrame.head of 0      harassment/harassment_shv1.mp4\n",
       "1      harassment/harassment_shv2.mp4\n",
       "2      harassment/harassment_shv3.mp4\n",
       "3      harassment/harassment_shv4.mp4\n",
       "4      harassment/harassment_shv5.mp4\n",
       "5      harassment/harassment_shv6.mp4\n",
       "6      harassment/harassment_shv7.mp4\n",
       "7      harassment/harassment_shv8.mp4\n",
       "8      harassment/harassment_shv9.mp4\n",
       "9     harassment/harassment_shv10.mp4\n",
       "10    harassment/harassment_shv11.mp4\n",
       "11    harassment/harassment_shv12.mp4\n",
       "12    harassment/harassment_shv13.mp4\n",
       "13    harassment/harassment_shv14.mp4\n",
       "14    harassment/harassment_shv15.mp4\n",
       "15    harassment/harassment_shv16.mp4\n",
       "16    harassment/harassment_shv17.mp4\n",
       "17    harassment/harassment_shv18.mp4\n",
       "18    harassment/harassment_shv19.mp4\n",
       "19    harassment/harassment_shv20.mp4\n",
       "20    harassment/harassment_shv21.mp4\n",
       "21    harassment/harassment_shv22.mp4\n",
       "22            non_harassment/non1.mp4\n",
       "23            non_harassment/non2.mp4\n",
       "24            non_harassment/non3.mp4\n",
       "25            non_harassment/non5.mp4\n",
       "26            non_harassment/non6.mp4\n",
       "27            non_harassment/non7.mp4\n",
       "28            non_harassment/non9.mp4\n",
       "29           non_harassment/non10.mp4\n",
       "30           non_harassment/non11.mp4\n",
       "31           non_harassment/non12.mp4\n",
       "32           non_harassment/non13.mp4\n",
       "33           non_harassment/non14.mp4\n",
       "34           non_harassment/non15.mp4\n",
       "35           non_harassment/non16.mp4\n",
       "36           non_harassment/non17.mp4\n",
       "37           non_harassment/non18.mp4\n",
       "38                                   \n",
       "Name: video_name, dtype: object>"
      ]
     },
     "execution_count": 5,
     "metadata": {},
     "output_type": "execute_result"
    }
   ],
   "source": [
    "train['video_name'].head"
   ]
  },
  {
   "cell_type": "code",
   "execution_count": 6,
   "metadata": {
    "colab": {
     "base_uri": "https://localhost:8080/"
    },
    "id": "o1LXRMjBt3_b",
    "outputId": "c8e45b4c-8d16-4236-d65e-780c41ec0360"
   },
   "outputs": [
    {
     "data": {
      "text/plain": [
       "(9, 2)"
      ]
     },
     "execution_count": 6,
     "metadata": {},
     "output_type": "execute_result"
    }
   ],
   "source": [
    "test.shape"
   ]
  },
  {
   "cell_type": "code",
   "execution_count": 7,
   "metadata": {
    "colab": {
     "base_uri": "https://localhost:8080/"
    },
    "id": "N4GqlizMt4Dp",
    "outputId": "65998e49-c2d6-43f4-9256-0603e266b65c"
   },
   "outputs": [
    {
     "name": "stderr",
     "output_type": "stream",
     "text": [
      "100%|██████████| 39/39 [00:43<00:00,  1.12s/it]\n"
     ]
    }
   ],
   "source": [
    "# storing the frames from training videos\n",
    "for i in tqdm(range(train.shape[0])):\n",
    "    count = 0\n",
    "    videoFile = train['video_name'][i]\n",
    "    cap = cv2.VideoCapture('Data/'+videoFile)   # capturing the video from the given path\n",
    "    frameRate = cap.get(5) #frame rate\n",
    "    x=1\n",
    "    while(cap.isOpened()):\n",
    "        frameId = cap.get(1) #current frame number\n",
    "        ret, frame = cap.read()\n",
    "        if (ret != True):\n",
    "            break\n",
    "        if (frameId % 3 == 0):\n",
    "            # storing the frames in a new folder named train_1\n",
    "            filename ='train/' + videoFile.split('/')[1].split(' ')[0] +\"_frame%d.jpg\" % count;count+=1\n",
    "            cv2.imwrite(filename, frame)\n",
    "    cap.release()"
   ]
  },
  {
   "cell_type": "code",
   "execution_count": 8,
   "metadata": {
    "colab": {
     "base_uri": "https://localhost:8080/",
     "height": 36
    },
    "id": "Hb3AdgN5t4Fn",
    "outputId": "aee942f1-7bf1-46a2-c57c-36c13111fc2d"
   },
   "outputs": [
    {
     "data": {
      "text/plain": [
       "'train\\\\harassment_shv1.mp4_frame0.jpg'"
      ]
     },
     "execution_count": 8,
     "metadata": {},
     "output_type": "execute_result"
    }
   ],
   "source": [
    "images = glob(\"train/*.jpg\")\n",
    "images[0]"
   ]
  },
  {
   "cell_type": "code",
   "execution_count": 9,
   "metadata": {
    "colab": {
     "base_uri": "https://localhost:8080/"
    },
    "id": "EYBFyPznt4Iu",
    "outputId": "d3365f88-6324-45af-d141-fc4f5e19cfab"
   },
   "outputs": [
    {
     "name": "stderr",
     "output_type": "stream",
     "text": [
      "100%|██████████| 813/813 [00:00<?, ?it/s]\n"
     ]
    }
   ],
   "source": [
    "import glob\n",
    "import pandas as pd\n",
    "from tqdm import tqdm\n",
    "\n",
    "# getting the names of all the images\n",
    "images = glob.glob(\"train/*.jpg\")\n",
    "train_image = []\n",
    "train_class = []\n",
    "\n",
    "for i in tqdm(range(len(images)-1)):\n",
    "    # creating the image name\n",
    "    train_image.append(images[i].split('\\\\')[1])\n",
    "\n",
    "    # creating the class of the image\n",
    "    if (images[i].split('\\\\')[1].split('_')[0] == 'harassment'):\n",
    "        train_class.append(1)\n",
    "    else:\n",
    "        train_class.append(0)\n",
    "    \n",
    "# storing the images and their class in a dataframe\n",
    "train_data = pd.DataFrame()\n",
    "train_data['image'] = train_image\n",
    "train_data['class'] = train_class\n",
    "\n",
    "# converting the dataframe into a CSV file\n",
    "train_data.to_csv('Data/train_new.csv', header=True, index=False)"
   ]
  }
 ],
 "metadata": {
  "accelerator": "GPU",
  "colab": {
   "collapsed_sections": [],
   "machine_shape": "hm",
   "name": "Harassment _Final_V2.ipynb",
   "provenance": []
  },
  "kernelspec": {
   "display_name": "Python 3",
   "language": "python",
   "name": "python3"
  },
  "language_info": {
   "codemirror_mode": {
    "name": "ipython",
    "version": 3
   },
   "file_extension": ".py",
   "mimetype": "text/x-python",
   "name": "python",
   "nbconvert_exporter": "python",
   "pygments_lexer": "ipython3",
   "version": "3.10.11"
  }
 },
 "nbformat": 4,
 "nbformat_minor": 1
}
